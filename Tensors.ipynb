{
 "cells": [
  {
   "cell_type": "code",
   "execution_count": 1,
   "id": "754082c8-d686-4812-b3e8-1fddf8082c2c",
   "metadata": {},
   "outputs": [],
   "source": [
    "import torch"
   ]
  },
  {
   "cell_type": "code",
   "execution_count": 2,
   "id": "646bbc76-da4c-46aa-9a63-ca7430555f46",
   "metadata": {},
   "outputs": [
    {
     "data": {
      "text/plain": [
       "True"
      ]
     },
     "execution_count": 2,
     "metadata": {},
     "output_type": "execute_result"
    }
   ],
   "source": [
    "torch.cuda.is_available()"
   ]
  },
  {
   "cell_type": "markdown",
   "id": "ed1a521d-7011-425e-8dd8-599ec8321721",
   "metadata": {},
   "source": [
    "# Tensors\n",
    "\n",
    "A Tensor is a multi-dimensional array that represent data in n-dimensional space. \\\n",
    "Tensors can be though of as containers for numerical data, just like arrays or matrices, but generalized to any number of dimensions.\n",
    "\n",
    "\n",
    "https://docs.google.com/document/d/1e3xvh0N8DTJ2YVYB-p-4_J4wxkXf4CSpo9Pa8SMtVQI/edit?tab=t.sf1selmw9ju3"
   ]
  },
  {
   "cell_type": "markdown",
   "id": "20006be5-8716-4973-ad50-fb5cd1c3837d",
   "metadata": {},
   "source": [
    "### Scalar -  0-D"
   ]
  },
  {
   "cell_type": "code",
   "execution_count": 3,
   "id": "7d165efe-3e4b-492a-8389-c6519ce924f8",
   "metadata": {},
   "outputs": [
    {
     "name": "stdout",
     "output_type": "stream",
     "text": [
      "tensor(5)\n"
     ]
    }
   ],
   "source": [
    "# scalar 0 D\n",
    "scalar = torch.tensor(5)\n",
    "print(scalar)"
   ]
  },
  {
   "cell_type": "markdown",
   "id": "b713f9d9-688b-4f0c-be36-a7a14a9abb39",
   "metadata": {},
   "source": [
    "### Vector -  1-D"
   ]
  },
  {
   "cell_type": "code",
   "execution_count": 5,
   "id": "c2a7e9c1-8873-486b-9af7-9241cce0dbea",
   "metadata": {},
   "outputs": [
    {
     "name": "stdout",
     "output_type": "stream",
     "text": [
      "tensor([1., 2., 3.])\n"
     ]
    }
   ],
   "source": [
    "# Vector 1 D\n",
    "vector = torch.tensor([1.0, 2.0, 3.0])\n",
    "print(vector)"
   ]
  },
  {
   "cell_type": "markdown",
   "id": "1c437ffe-5a01-4b0e-b6d3-f7ac375abd07",
   "metadata": {},
   "source": [
    "### Matrix -  2-D"
   ]
  },
  {
   "cell_type": "code",
   "execution_count": 6,
   "id": "3532f2c1-35a1-4a3c-ac5f-0804a16583ea",
   "metadata": {},
   "outputs": [
    {
     "name": "stdout",
     "output_type": "stream",
     "text": [
      "tensor([[1, 2],\n",
      "        [3, 4]])\n"
     ]
    }
   ],
   "source": [
    "# Matrix 2 D\n",
    "matrix = torch.tensor( [[1,2], [3, 4] ] )\n",
    "print(matrix)"
   ]
  },
  {
   "cell_type": "markdown",
   "id": "9943cc6e-0752-4c8a-a86d-124aff36eb81",
   "metadata": {},
   "source": [
    "### High Dimensional Tensor - n-D"
   ]
  },
  {
   "cell_type": "code",
   "execution_count": 7,
   "id": "29a79642-1328-42c1-b183-0fea4f5615ae",
   "metadata": {},
   "outputs": [
    {
     "name": "stdout",
     "output_type": "stream",
     "text": [
      "tensor([[[255,   0,   0],\n",
      "         [  0, 255,   0],\n",
      "         [  0,   0, 255]]])\n"
     ]
    }
   ],
   "source": [
    "# 3D Tensor\n",
    "tensor3d = torch.tensor( [[ [255, 0, 0], [0, 255, 0], [0, 0, 255] ]] )\n",
    "print(tensor3d)"
   ]
  },
  {
   "cell_type": "code",
   "execution_count": null,
   "id": "d3b59a0e-ab08-4521-8cef-46a53070c4e3",
   "metadata": {},
   "outputs": [],
   "source": []
  }
 ],
 "metadata": {
  "kernelspec": {
   "display_name": "Python 3 (ipykernel)",
   "language": "python",
   "name": "python3"
  },
  "language_info": {
   "codemirror_mode": {
    "name": "ipython",
    "version": 3
   },
   "file_extension": ".py",
   "mimetype": "text/x-python",
   "name": "python",
   "nbconvert_exporter": "python",
   "pygments_lexer": "ipython3",
   "version": "3.12.1"
  }
 },
 "nbformat": 4,
 "nbformat_minor": 5
}
