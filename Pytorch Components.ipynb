{
 "cells": [
  {
   "cell_type": "markdown",
   "id": "8d1b383d-ddb5-46ba-aa12-a75d3804e80f",
   "metadata": {},
   "source": [
    "<center><img src=\"https://upload.wikimedia.org/wikipedia/commons/thumb/c/c6/PyTorch_logo_black.svg/1920px-PyTorch_logo_black.svg.png\" width=\"500\"></center>\n"
   ]
  },
  {
   "cell_type": "raw",
   "id": "79d1efaf-9e9c-434f-94e6-44c9805b4eab",
   "metadata": {},
   "source": []
  },
  {
   "cell_type": "markdown",
   "id": "b19ec5e3-b13e-4961-a88a-6adae11617d8",
   "metadata": {},
   "source": [
    "## 1. Installation"
   ]
  },
  {
   "cell_type": "markdown",
   "id": "010372a7-94f8-4658-9f11-b587d26d5205",
   "metadata": {},
   "source": [
    "<b>With CUDA Support </b>"
   ]
  },
  {
   "cell_type": "code",
   "execution_count": 1,
   "id": "05929acd-a47b-4950-81d8-a84f62e1e2e3",
   "metadata": {},
   "outputs": [],
   "source": [
    "# pip3 install torch torchvision torchaudio --index-url https://download.pytorch.org/whl/cu118"
   ]
  },
  {
   "cell_type": "markdown",
   "id": "9a4e23a7-5239-4b4f-8474-37124f306ee8",
   "metadata": {},
   "source": [
    "<b>Without CUDA Support </b>"
   ]
  },
  {
   "cell_type": "code",
   "execution_count": 2,
   "id": "55b6013a-b36a-4972-bcac-0bbbfcef2806",
   "metadata": {},
   "outputs": [],
   "source": [
    "# pip3 install torch torchvision torchaudio"
   ]
  },
  {
   "cell_type": "raw",
   "id": "5c02cdf7-d177-477f-b59b-05715623b393",
   "metadata": {},
   "source": []
  },
  {
   "cell_type": "markdown",
   "id": "4dc20031-5780-48eb-b4b0-c4bbcb4f2311",
   "metadata": {},
   "source": [
    "## 2. Importing"
   ]
  },
  {
   "cell_type": "code",
   "execution_count": 2,
   "id": "f91c6f65-bf21-48ff-8fd0-c988d755ef7a",
   "metadata": {},
   "outputs": [],
   "source": [
    "import torch"
   ]
  },
  {
   "cell_type": "code",
   "execution_count": 4,
   "id": "aad11d96-9892-4c23-a713-77a0dd278405",
   "metadata": {},
   "outputs": [],
   "source": [
    "# verifying cuda support"
   ]
  },
  {
   "cell_type": "code",
   "execution_count": 5,
   "id": "a51a4eab-ca55-4a12-a4a5-4327df0936a2",
   "metadata": {},
   "outputs": [
    {
     "data": {
      "text/plain": [
       "True"
      ]
     },
     "execution_count": 5,
     "metadata": {},
     "output_type": "execute_result"
    }
   ],
   "source": [
    "torch.cuda.is_available()"
   ]
  },
  {
   "cell_type": "code",
   "execution_count": 7,
   "id": "e35e0b30-8d01-40cb-b413-98a3ee33a02f",
   "metadata": {},
   "outputs": [],
   "source": [
    "device = torch.device(\"cuda\" if torch.cuda.is_available() else \"cpu\")"
   ]
  },
  {
   "cell_type": "code",
   "execution_count": 8,
   "id": "13e2203a-f2f3-411b-8db0-8abe9c29cdaf",
   "metadata": {},
   "outputs": [
    {
     "name": "stdout",
     "output_type": "stream",
     "text": [
      "cuda\n"
     ]
    }
   ],
   "source": [
    "print(device)"
   ]
  },
  {
   "cell_type": "code",
   "execution_count": 11,
   "id": "e3d26db0-0019-4548-8647-cb3abe554de8",
   "metadata": {},
   "outputs": [
    {
     "name": "stdout",
     "output_type": "stream",
     "text": [
      "NVIDIA GeForce RTX 3050 Laptop GPU\n"
     ]
    }
   ],
   "source": [
    "print(torch.cuda.get_device_name(0))"
   ]
  },
  {
   "cell_type": "raw",
   "id": "ca2f2743-9cbf-412b-82ff-3cc4ced5faae",
   "metadata": {},
   "source": []
  },
  {
   "cell_type": "markdown",
   "id": "5d24e87f-c636-4498-8160-5e851a9e3ae3",
   "metadata": {},
   "source": [
    "## 3. Basic Components"
   ]
  },
  {
   "cell_type": "markdown",
   "id": "4a58a77c-fc06-461d-9c6b-f4e848b8a604",
   "metadata": {},
   "source": [
    "<ul>\n",
    "    <li><h3>Tensors</h3></li>\n",
    "</ul>"
   ]
  },
  {
   "cell_type": "code",
   "execution_count": 12,
   "id": "9cddbb6e-b41b-47c4-98cc-3b30aca8e8c2",
   "metadata": {},
   "outputs": [
    {
     "name": "stdout",
     "output_type": "stream",
     "text": [
      "tensor([[1, 2],\n",
      "        [3, 4]])\n"
     ]
    }
   ],
   "source": [
    "x = torch.tensor([[1,2], [3,4]])\n",
    "print(x)"
   ]
  },
  {
   "cell_type": "code",
   "execution_count": 14,
   "id": "5cad25db-8f5c-4e65-9a34-75152bd8a379",
   "metadata": {},
   "outputs": [
    {
     "name": "stdout",
     "output_type": "stream",
     "text": [
      "tensor([[6, 7],\n",
      "        [8, 9]])\n"
     ]
    }
   ],
   "source": [
    "y = x+5\n",
    "print(y)"
   ]
  },
  {
   "cell_type": "markdown",
   "id": "c2646ad6-7a76-492c-83ce-dcc8e5d02ac0",
   "metadata": {},
   "source": [
    "<ul>\n",
    "    <li><h3>Building a model </h3></li>\n",
    "</ul>"
   ]
  },
  {
   "cell_type": "code",
   "execution_count": 5,
   "id": "c93d1165-9b6f-4d4d-81b5-be24261cf3f5",
   "metadata": {},
   "outputs": [],
   "source": [
    "import torch.nn as nn"
   ]
  },
  {
   "cell_type": "code",
   "execution_count": 6,
   "id": "59b94942-1513-4ee6-99fb-6222b9d6c71b",
   "metadata": {},
   "outputs": [
    {
     "name": "stdout",
     "output_type": "stream",
     "text": [
      "SimpleModel(\n",
      "  (fc): Linear(in_features=10, out_features=1, bias=True)\n",
      ")\n"
     ]
    }
   ],
   "source": [
    "class SimpleModel(nn.Module):\n",
    "    def __init__(self):\n",
    "        super(SimpleModel, self).__init__()\n",
    "        self.fc = nn.Linear(10, 1)\n",
    "\n",
    "    def forward(self, x):\n",
    "        return self.fc(x)\n",
    "\n",
    "model = SimpleModel()\n",
    "print(model)"
   ]
  },
  {
   "cell_type": "raw",
   "id": "304793c1-ed75-4c91-adf1-f46ce78bf6b6",
   "metadata": {},
   "source": []
  },
  {
   "cell_type": "markdown",
   "id": "ada60312-d020-4572-850a-7a87191b2bed",
   "metadata": {},
   "source": [
    "<ul>\n",
    "    <li><h3>Training Loop</li>\n",
    "\n",
    "\n",
    "A typical training loop includes : \n",
    "<ul>\n",
    "    <li>Forward Pass</li>\n",
    "    <li>Compute loss</li>\n",
    "    <li>Backward pass</li>\n",
    "    <li>Update weights</li>\n",
    "</ul>\n",
    "\n",
    "</ul>"
   ]
  },
  {
   "cell_type": "code",
   "execution_count": 7,
   "id": "f1b437c6-e4db-420e-a532-e551f0243b28",
   "metadata": {},
   "outputs": [],
   "source": [
    "optimizer = torch.optim.SGD(model.parameters(), lr=0.01)"
   ]
  },
  {
   "cell_type": "code",
   "execution_count": 8,
   "id": "905f1581-1059-4de7-8211-e77cd7002e02",
   "metadata": {},
   "outputs": [],
   "source": [
    "criterion = nn.MSELoss()"
   ]
  },
  {
   "cell_type": "code",
   "execution_count": 10,
   "id": "19460120-0385-4671-8ecf-d5f8a9b97fb8",
   "metadata": {},
   "outputs": [
    {
     "name": "stdout",
     "output_type": "stream",
     "text": [
      "Epoch 0, Loss = 2.302441358566284\n",
      "Epoch 1, Loss = 3.3419570922851562\n",
      "Epoch 2, Loss = 1.5996310710906982\n",
      "Epoch 3, Loss = 1.4537222385406494\n",
      "Epoch 4, Loss = 1.4691228866577148\n",
      "Epoch 5, Loss = 1.2074363231658936\n",
      "Epoch 6, Loss = 1.2059824466705322\n",
      "Epoch 7, Loss = 0.8759688138961792\n",
      "Epoch 8, Loss = 0.4205830991268158\n",
      "Epoch 9, Loss = 3.2876992225646973\n",
      "Epoch 10, Loss = 1.5136955976486206\n",
      "Epoch 11, Loss = 1.80573308467865\n",
      "Epoch 12, Loss = 0.905966579914093\n",
      "Epoch 13, Loss = 0.5046552419662476\n",
      "Epoch 14, Loss = 1.3055696487426758\n",
      "Epoch 15, Loss = 0.8114310503005981\n",
      "Epoch 16, Loss = 1.6258083581924438\n",
      "Epoch 17, Loss = 0.3839823305606842\n",
      "Epoch 18, Loss = 0.7531536817550659\n",
      "Epoch 19, Loss = 1.676168441772461\n",
      "Epoch 20, Loss = 2.780904531478882\n",
      "Epoch 21, Loss = 0.6835851669311523\n",
      "Epoch 22, Loss = 2.4795589447021484\n",
      "Epoch 23, Loss = 1.5009487867355347\n",
      "Epoch 24, Loss = 1.9193919897079468\n",
      "Epoch 25, Loss = 1.1049097776412964\n",
      "Epoch 26, Loss = 1.1287951469421387\n",
      "Epoch 27, Loss = 2.1612515449523926\n",
      "Epoch 28, Loss = 1.1841672658920288\n",
      "Epoch 29, Loss = 0.9815148115158081\n",
      "Epoch 30, Loss = 1.0072152614593506\n",
      "Epoch 31, Loss = 0.6245337724685669\n",
      "Epoch 32, Loss = 0.20229604840278625\n",
      "Epoch 33, Loss = 0.765114426612854\n",
      "Epoch 34, Loss = 0.42690569162368774\n",
      "Epoch 35, Loss = 1.6493257284164429\n",
      "Epoch 36, Loss = 1.3247350454330444\n",
      "Epoch 37, Loss = 1.3415591716766357\n",
      "Epoch 38, Loss = 0.32582253217697144\n",
      "Epoch 39, Loss = 1.38906991481781\n",
      "Epoch 40, Loss = 0.8949646949768066\n",
      "Epoch 41, Loss = 2.173022747039795\n",
      "Epoch 42, Loss = 2.2193822860717773\n",
      "Epoch 43, Loss = 0.30412834882736206\n",
      "Epoch 44, Loss = 0.5969316363334656\n",
      "Epoch 45, Loss = 0.4477872848510742\n",
      "Epoch 46, Loss = 0.5447353720664978\n",
      "Epoch 47, Loss = 1.1236286163330078\n",
      "Epoch 48, Loss = 0.6116222739219666\n",
      "Epoch 49, Loss = 0.8313401937484741\n",
      "Epoch 50, Loss = 1.0104286670684814\n",
      "Epoch 51, Loss = 3.9503982067108154\n",
      "Epoch 52, Loss = 0.8841525912284851\n",
      "Epoch 53, Loss = 1.8467609882354736\n",
      "Epoch 54, Loss = 1.0662556886672974\n",
      "Epoch 55, Loss = 2.4497716426849365\n",
      "Epoch 56, Loss = 0.4946479797363281\n",
      "Epoch 57, Loss = 1.2146642208099365\n",
      "Epoch 58, Loss = 2.155679225921631\n",
      "Epoch 59, Loss = 1.6647735834121704\n",
      "Epoch 60, Loss = 0.9441435933113098\n",
      "Epoch 61, Loss = 1.0650252103805542\n",
      "Epoch 62, Loss = 1.6399009227752686\n",
      "Epoch 63, Loss = 1.7621997594833374\n",
      "Epoch 64, Loss = 1.0745033025741577\n",
      "Epoch 65, Loss = 1.7338173389434814\n",
      "Epoch 66, Loss = 0.6362529993057251\n",
      "Epoch 67, Loss = 0.4734460711479187\n",
      "Epoch 68, Loss = 0.4691081643104553\n",
      "Epoch 69, Loss = 0.21545688807964325\n",
      "Epoch 70, Loss = 0.8678205609321594\n",
      "Epoch 71, Loss = 0.8409380912780762\n",
      "Epoch 72, Loss = 1.100974440574646\n",
      "Epoch 73, Loss = 0.1552744358778\n",
      "Epoch 74, Loss = 1.2299339771270752\n",
      "Epoch 75, Loss = 0.758116602897644\n",
      "Epoch 76, Loss = 2.679257869720459\n",
      "Epoch 77, Loss = 1.137977957725525\n",
      "Epoch 78, Loss = 1.4026563167572021\n",
      "Epoch 79, Loss = 0.9523842930793762\n",
      "Epoch 80, Loss = 0.783312201499939\n",
      "Epoch 81, Loss = 1.746616005897522\n",
      "Epoch 82, Loss = 0.6878451108932495\n",
      "Epoch 83, Loss = 0.34230804443359375\n",
      "Epoch 84, Loss = 0.3665604591369629\n",
      "Epoch 85, Loss = 0.5673891305923462\n",
      "Epoch 86, Loss = 2.2044193744659424\n",
      "Epoch 87, Loss = 0.5112504363059998\n",
      "Epoch 88, Loss = 1.8130582571029663\n",
      "Epoch 89, Loss = 0.6734567880630493\n",
      "Epoch 90, Loss = 1.0235974788665771\n",
      "Epoch 91, Loss = 0.24038025736808777\n",
      "Epoch 92, Loss = 1.2496057748794556\n",
      "Epoch 93, Loss = 1.5079460144042969\n",
      "Epoch 94, Loss = 1.6409305334091187\n",
      "Epoch 95, Loss = 2.289997100830078\n",
      "Epoch 96, Loss = 0.47282499074935913\n",
      "Epoch 97, Loss = 0.5885360836982727\n",
      "Epoch 98, Loss = 1.6719415187835693\n",
      "Epoch 99, Loss = 0.9318938255310059\n"
     ]
    }
   ],
   "source": [
    "for epoch in range(100):\n",
    "    optimizer.zero_grad()\n",
    "    outputs = model(torch.randn(5,10))\n",
    "    loss = criterion(outputs, torch.randn(5,1))\n",
    "    loss.backward()\n",
    "    optimizer.step()\n",
    "    print(f\"Epoch {epoch}, Loss = {loss.item()}\")"
   ]
  },
  {
   "cell_type": "code",
   "execution_count": null,
   "id": "5f7ef4ea-35b0-4258-98b5-bf85503fa4bf",
   "metadata": {},
   "outputs": [],
   "source": []
  }
 ],
 "metadata": {
  "kernelspec": {
   "display_name": "Python 3 (ipykernel)",
   "language": "python",
   "name": "python3"
  },
  "language_info": {
   "codemirror_mode": {
    "name": "ipython",
    "version": 3
   },
   "file_extension": ".py",
   "mimetype": "text/x-python",
   "name": "python",
   "nbconvert_exporter": "python",
   "pygments_lexer": "ipython3",
   "version": "3.12.1"
  }
 },
 "nbformat": 4,
 "nbformat_minor": 5
}
